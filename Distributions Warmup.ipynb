{
 "cells": [
  {
   "cell_type": "markdown",
   "metadata": {},
   "source": [
    "## Warmwup Exercise"
   ]
  },
  {
   "cell_type": "markdown",
   "metadata": {},
   "source": [
    "It's another day at the office at Big Research Co ™. You look up from your laptop and see a woman in a lab coat standing in front of your desk.\n",
    "\n",
    "\"I need some help\" she says. \"We lost some subjects from the trial.\"\n",
    "\n",
    "She notices a curious look on your face.\n",
    "\n",
    "\"Not like that, they just ran away. We didn't lock the doors soon enough.\"\n",
    "\n",
    "\"Anyway, there's probably like a 70%, no maybe 80%, no, let's say 90% chance that a given subject will stick around, and I need to run the study again with 10, or 20 subjects. We need to gather enough data on them to justify the cost, so I need you to figure out what are the probabilities are that at least half of them stick around, only 1 person leaves, and that all the subjects stay.\"\n",
    "\n",
    "She sees you start to form another question and cuts you off.\n",
    "\n",
    "\"Don't ask. You really don't want to know.\""
   ]
  },
  {
   "cell_type": "markdown",
   "metadata": {},
   "source": [
    "### What probability distribution would you use to model the scenario outlined above?"
   ]
  },
  {
   "cell_type": "code",
   "execution_count": 10,
   "metadata": {},
   "outputs": [],
   "source": [
    "import itertools as it\n",
    "from scipy import stats\n",
    "import numpy as np\n",
    "import pandas as pd\n",
    "import math\n",
    "import matplotlib.pyplot as plt\n",
    "import seaborn as sns"
   ]
  },
  {
   "cell_type": "code",
   "execution_count": 11,
   "metadata": {},
   "outputs": [
    {
     "data": {
      "text/plain": [
       "0.9998530974"
      ]
     },
     "execution_count": 11,
     "metadata": {},
     "output_type": "execute_result"
    }
   ],
   "source": [
    "n = 10\n",
    "p = .90\n",
    "stats.binom(n, p).sf(4)"
   ]
  },
  {
   "cell_type": "code",
   "execution_count": 18,
   "metadata": {},
   "outputs": [
    {
     "ename": "SyntaxError",
     "evalue": "invalid syntax (<ipython-input-18-0925e2959891>, line 5)",
     "output_type": "error",
     "traceback": [
      "\u001b[0;36m  File \u001b[0;32m\"<ipython-input-18-0925e2959891>\"\u001b[0;36m, line \u001b[0;32m5\u001b[0m\n\u001b[0;31m    cdfs = [(p,n,k stats.binom(n,p).cdf(k))for p,n,k in it.product(p,n,k)]\u001b[0m\n\u001b[0m                       ^\u001b[0m\n\u001b[0;31mSyntaxError\u001b[0m\u001b[0;31m:\u001b[0m invalid syntax\n"
     ]
    }
   ],
   "source": [
    "p = [.7,.8,.9]\n",
    "n = [10,20]\n",
    "k = range(21)\n",
    "\n",
    "cdfs = [(p,n,k stats.binom(n,p).cdf(k))for p,n,k in it.product(p,n,k)]\n",
    "df = pd.DataFrame(cdfs, columns=['p','n','k', 'cdf(k)'])\n",
    "df.loc[(df.n == 18) & (df.k > 10), 'cdf(k)'] = np.nan\n",
    "df = df.dropna()\n",
    "        \n",
    "sns.reiplot(data=df, x='k', y='cdf(k)', col='n', hue='p')"
   ]
  },
  {
   "cell_type": "markdown",
   "metadata": {},
   "source": [
    "### Calculate all the requested probabilities. Use all the possible combinations of subject count and chance that a subject will stay in the study."
   ]
  },
  {
   "cell_type": "code",
   "execution_count": 12,
   "metadata": {},
   "outputs": [
    {
     "data": {
      "text/plain": [
       "0.0016349374000000005"
      ]
     },
     "execution_count": 12,
     "metadata": {},
     "output_type": "execute_result"
    }
   ],
   "source": [
    "n = 10\n",
    "p = .10\n",
    "stats.binom(n, p).sf(4)"
   ]
  },
  {
   "cell_type": "markdown",
   "metadata": {},
   "source": [
    "### Bonus: visualize the requested probabilities."
   ]
  },
  {
   "cell_type": "code",
   "execution_count": 13,
   "metadata": {},
   "outputs": [
    {
     "data": {
      "image/png": "[encoded data removed]",
      "text/plain": [
       "<Figure size 432x288 with 1 Axes>"
      ]
     },
     "metadata": {
      "needs_background": "light"
     },
     "output_type": "display_data"
    }
   ],
   "source": [
    "subjects = stats.binom(10, .9)\n",
    "x = np.arange(0, 11)\n",
    "y = subjects.pmf(x)\n",
    "sns.barplot(x, y, edgecolor='black', color=\"Royalblue\");"
   ]
  },
  {
   "cell_type": "markdown",
   "metadata": {},
   "source": [
    "## Hints\n",
    "- Use scipy.stats for this.\n",
    "- A fancy list comprehension or the itertools module can help you find all the possible combinations.\n",
    "- Consider storing the results of your calculations in a data frame."
   ]
  },
  {
   "cell_type": "code",
   "execution_count": null,
   "metadata": {},
   "outputs": [],
   "source": []
  },
  {
   "cell_type": "code",
   "execution_count": null,
   "metadata": {},
   "outputs": [],
   "source": []
  }
 ],
 "metadata": {
  "kernelspec": {
   "display_name": "Python 3",
   "language": "python",
   "name": "python3"
  },
  "language_info": {
   "codemirror_mode": {
    "name": "ipython",
    "version": 3
   },
   "file_extension": ".py",
   "mimetype": "text/x-python",
   "name": "python",
   "nbconvert_exporter": "python",
   "pygments_lexer": "ipython3",
   "version": "3.7.6"
  }
 },
 "nbformat": 4,
 "nbformat_minor": 4
}
